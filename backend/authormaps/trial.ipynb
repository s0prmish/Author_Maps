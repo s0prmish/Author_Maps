{
 "cells": [
  {
   "cell_type": "code",
   "execution_count": 3,
   "metadata": {},
   "outputs": [],
   "source": [
    "from Bio import Entrez\n",
    "from typing import List\n",
    "import os\n",
    "from pathlib import Path\n",
    "import json"
   ]
  },
  {
   "cell_type": "code",
   "execution_count": 2,
   "metadata": {},
   "outputs": [
    {
     "name": "stdout",
     "output_type": "stream",
     "text": [
      "Number of ids requested : 5 \n",
      "Number of ids available on NCBI : 5\n",
      "Number of ids requested : 5 \n",
      "Number of ids available on NCBI : 5\n",
      "['Amara AW', 'Memon RA', 'Memon AA', 'Cutter G', 'Bamman MM', 'Pilkington J', 'Wood KH', 'Triebel K', 'Miocinovic S', 'Gerstenecker A', 'Catiul C', 'Joop A', 'Staikova E', 'Loring DW', 'Block C', 'Patel M', 'Sharma VD', 'Foote KD', 'Gross RE', 'Buetefisch CM', 'Okun MS', 'Ostrem JL', 'Bullinger KL', 'Starr PA', 'Riva-Posse P']\n"
     ]
    },
    {
     "data": {
      "text/plain": [
       "['Amara AW',\n",
       " 'Memon RA',\n",
       " 'Memon AA',\n",
       " 'Cutter G',\n",
       " 'Bamman MM',\n",
       " 'Pilkington J',\n",
       " 'Wood KH',\n",
       " 'Triebel K',\n",
       " 'Miocinovic S',\n",
       " 'Gerstenecker A',\n",
       " 'Catiul C',\n",
       " 'Joop A',\n",
       " 'Staikova E',\n",
       " 'Loring DW',\n",
       " 'Block C',\n",
       " 'Patel M',\n",
       " 'Sharma VD',\n",
       " 'Foote KD',\n",
       " 'Gross RE',\n",
       " 'Buetefisch CM',\n",
       " 'Okun MS',\n",
       " 'Ostrem JL',\n",
       " 'Bullinger KL',\n",
       " 'Starr PA',\n",
       " 'Riva-Posse P']"
      ]
     },
     "execution_count": 2,
     "metadata": {},
     "output_type": "execute_result"
    }
   ],
   "source": [
    "from Bio import Entrez\n",
    "from typing import List\n",
    "import os\n",
    "from pathlib import Path\n",
    "import json\n",
    "\n",
    "Entrez.email = 'rathodhruv007@gmail.com'\n",
    "\n",
    "home_dir = str(Path.home())\n",
    "PROJECT_DIR = os.path.join(home_dir, \".project\", \"group5\")\n",
    "DATA_DIR = os.path.join(PROJECT_DIR,\"data\")\n",
    "\n",
    "\n",
    "class AuthorData:\n",
    "    def __init__(self, author_name=None,IDs_to_retrive=20):\n",
    "        self.author = author_name\n",
    "        self.AUTHOR_DIR = os.path.join(DATA_DIR, self.author)\n",
    "        os.makedirs(self.AUTHOR_DIR, exist_ok=True)\n",
    "        self.retmax=IDs_to_retrive\n",
    "\n",
    "    def get_list_of_publications(self) -> List['PMID']:\n",
    "\n",
    "        type_ = \"[Author]\"\n",
    "        term = self.author + type_\n",
    "        handle = Entrez.esearch(db=\"pubmed\", term=term,retmax=self.retmax)\n",
    "        record = Entrez.read(handle)\n",
    "        idlist = record['IdList']\n",
    "        print('Number of ids requested : {} '.format(self.retmax))\n",
    "        print('Number of ids available on NCBI : {}'.format(len(idlist)))\n",
    "        return idlist\n",
    "\n",
    "    def __cache_publications(self) -> None:\n",
    "        ids = self.get_list_of_publications()\n",
    "        for i in ids:\n",
    "            if str(i)+\".json\" in os.listdir(self.AUTHOR_DIR):\n",
    "#                 print(\"passing\")\n",
    "                pass\n",
    "            else:\n",
    "#                 print(\"downloading\")\n",
    "                summ_handle_3 = Entrez.esummary(db=\"pubmed\", id=i, version=\"2.0\", retmode=\"json\")\n",
    "                data = json.load(summ_handle_3)\n",
    "                path = os.path.join(self.AUTHOR_DIR, f\"{i}.json\")\n",
    "                with open(path, 'w') as outfile:\n",
    "                    json.dump(data, outfile)\n",
    "\n",
    "    def get_list_of_coauthors_from_list_of_publications(self, publications: List['PMID']) -> List[str]:\n",
    "        self.__cache_publications()\n",
    "        out = {}\n",
    "        for id_ in publications:\n",
    "            handle = Entrez.esummary(db=\"pubmed\", id=id_)\n",
    "            record = Entrez.read(handle)\n",
    "            out[id_] = record[0]['AuthorList']\n",
    "        final = []\n",
    "        for i in out.values():\n",
    "            set_1 = set(final)\n",
    "            set_2 = set(i)\n",
    "            list_2_items_not_in_list_1 = list(set_2 - set_1)\n",
    "            final = final + list_2_items_not_in_list_1\n",
    "        return final\n",
    "\n",
    "    def get_list_of_coauthors(self) -> List[str]:\n",
    "        co_authors = self.get_list_of_coauthors_from_list_of_publications(self.get_list_of_publications())\n",
    "        if co_authors == []:\n",
    "            os.rmdir(self.AUTHOR_DIR)\n",
    "            return \"No such author found\"\n",
    "        else:\n",
    "            print(co_authors)\n",
    "            return co_authors\n",
    "\n",
    "\n",
    "\n",
    "d=AuthorData('Svjetlana Miocinovic',5)\n",
    "d.get_list_of_coauthors()"
   ]
  },
  {
   "cell_type": "code",
   "execution_count": null,
   "metadata": {},
   "outputs": [],
   "source": []
  },
  {
   "cell_type": "code",
   "execution_count": null,
   "metadata": {},
   "outputs": [],
   "source": [
    "from Bio import Entrez\n",
    "from typing import List\n",
    "import os\n",
    "from pathlib import Path\n",
    "import json\n",
    "\n",
    "Entrez.email = 'rathodhruv007@gmail.com'\n",
    "\n",
    "home_dir = str(Path.home())\n",
    "PROJECT_DIR = os.path.join(home_dir, \".project\", \"group5\")\n",
    "DATA_DIR = os.path.join(PROJECT_DIR,\"data\")\n",
    "\n",
    "\n",
    "class AuthorData:\n",
    "    def __init__(self, author_name=None,IDs_to_retrive=20):\n",
    "        self.author = author_name\n",
    "        self.AUTHOR_DIR = os.path.join(DATA_DIR, self.author)\n",
    "        os.makedirs(self.AUTHOR_DIR, exist_ok=True)\n",
    "        self.retmax=IDs_to_retrive\n",
    "\n",
    "    def get_list_of_publications(self) -> List['PMID']:\n",
    "\n",
    "        type_ = \"[Author]\"\n",
    "        term = self.author + type_\n",
    "        handle = Entrez.esearch(db=\"pubmed\", term=term,retmax=self.retmax)\n",
    "        record = Entrez.read(handle)\n",
    "        idlist = record['IdList']\n",
    "        print('Number of ids requested : {} '.format(self.retmax))\n",
    "        print('Number of ids available on NCBI : {}'.format(len(idlist)))\n",
    "        return idlist\n",
    "\n",
    "    def __cache_publications(self) -> None:\n",
    "        ids = self.get_list_of_publications()\n",
    "        for i in ids:\n",
    "            if str(i)+\".json\" in os.listdir(self.AUTHOR_DIR):\n",
    "#                 print(\"passing\")\n",
    "                pass\n",
    "            else:\n",
    "#                 print(\"downloading\")\n",
    "                summ_handle_3 = Entrez.esummary(db=\"pubmed\", id=i, version=\"2.0\", retmode=\"json\")\n",
    "                data = json.load(summ_handle_3)\n",
    "                path = os.path.join(self.AUTHOR_DIR, f\"{i}.json\")\n",
    "                with open(path, 'w') as outfile:\n",
    "                    json.dump(data, outfile)\n",
    "\n",
    "    def get_list_of_coauthors_from_list_of_publications(self, publications: List['PMID']) -> List[str]:\n",
    "        self.__cache_publications()\n",
    "        out = {}\n",
    "        for id_ in publications:\n",
    "            handle = Entrez.esummary(db=\"pubmed\", id=id_)\n",
    "            record = Entrez.read(handle)\n",
    "            out[id_] = record[0]['AuthorList']\n",
    "        final = []\n",
    "        for i in out.values():\n",
    "            set_1 = set(final)\n",
    "            set_2 = set(i)\n",
    "            list_2_items_not_in_list_1 = list(set_2 - set_1)\n",
    "            final = final + list_2_items_not_in_list_1\n",
    "        return final\n",
    "\n",
    "    def get_list_of_coauthors(self) -> List[str]:\n",
    "        co_authors = self.get_list_of_coauthors_from_list_of_publications(self.get_list_of_publications())\n",
    "        if co_authors == []:\n",
    "            os.rmdir(self.AUTHOR_DIR)\n",
    "            return \"No such author found\"\n",
    "        else:\n",
    "            print(co_authors)\n",
    "            return co_authors\n",
    "\n",
    "\n",
    "\n",
    "d=AuthorData('Svjetlana Miocinovic',5)\n",
    "d.get_list_of_coauthors()"
   ]
  },
  {
   "cell_type": "code",
   "execution_count": null,
   "metadata": {},
   "outputs": [],
   "source": []
  },
  {
   "cell_type": "code",
   "execution_count": null,
   "metadata": {},
   "outputs": [],
   "source": []
  },
  {
   "cell_type": "code",
   "execution_count": null,
   "metadata": {},
   "outputs": [],
   "source": []
  },
  {
   "cell_type": "code",
   "execution_count": null,
   "metadata": {},
   "outputs": [],
   "source": []
  },
  {
   "cell_type": "code",
   "execution_count": null,
   "metadata": {},
   "outputs": [],
   "source": []
  },
  {
   "cell_type": "code",
   "execution_count": 25,
   "metadata": {},
   "outputs": [
    {
     "data": {
      "text/plain": [
       "<_io.TextIOWrapper encoding='UTF-8'>"
      ]
     },
     "execution_count": 25,
     "metadata": {},
     "output_type": "execute_result"
    }
   ],
   "source": [
    "\n",
    "\n",
    "handle = Entrez.efetch(db='pubmed',id=4304705,rettype=\"gb\", retmode=\"text\")\n",
    "handle"
   ]
  },
  {
   "cell_type": "code",
   "execution_count": 26,
   "metadata": {},
   "outputs": [
    {
     "name": "stdout",
     "output_type": "stream",
     "text": [
      "\n"
     ]
    }
   ],
   "source": [
    "print(handle.readline().strip())"
   ]
  },
  {
   "cell_type": "code",
   "execution_count": 28,
   "metadata": {},
   "outputs": [],
   "source": [
    "from Bio import Medline"
   ]
  },
  {
   "cell_type": "code",
   "execution_count": 67,
   "metadata": {},
   "outputs": [],
   "source": [
    "h = Entrez.efetch(db=\"pubmed\", id=32333552, rettype=\"medline\", retmode=\"text\")\n",
    "records = Medline.parse(h)"
   ]
  },
  {
   "cell_type": "code",
   "execution_count": 68,
   "metadata": {},
   "outputs": [
    {
     "data": {
      "text/plain": [
       "<generator object parse at 0x00000258F00C6148>"
      ]
     },
     "execution_count": 68,
     "metadata": {},
     "output_type": "execute_result"
    }
   ],
   "source": [
    "records"
   ]
  },
  {
   "cell_type": "code",
   "execution_count": 69,
   "metadata": {},
   "outputs": [],
   "source": [
    "import pandas as pd"
   ]
  },
  {
   "cell_type": "code",
   "execution_count": 79,
   "metadata": {},
   "outputs": [],
   "source": [
    "publication_data = pd.DataFrame(list(records))"
   ]
  },
  {
   "cell_type": "code",
   "execution_count": 71,
   "metadata": {},
   "outputs": [
    {
     "data": {
      "text/html": [
       "<div>\n",
       "<style scoped>\n",
       "    .dataframe tbody tr th:only-of-type {\n",
       "        vertical-align: middle;\n",
       "    }\n",
       "\n",
       "    .dataframe tbody tr th {\n",
       "        vertical-align: top;\n",
       "    }\n",
       "\n",
       "    .dataframe thead th {\n",
       "        text-align: right;\n",
       "    }\n",
       "</style>\n",
       "<table border=\"1\" class=\"dataframe\">\n",
       "  <thead>\n",
       "    <tr style=\"text-align: right;\">\n",
       "      <th></th>\n",
       "      <th>PMID</th>\n",
       "      <th>OWN</th>\n",
       "      <th>STAT</th>\n",
       "      <th>DCOM</th>\n",
       "      <th>LR</th>\n",
       "      <th>IS</th>\n",
       "      <th>VI</th>\n",
       "      <th>IP</th>\n",
       "      <th>DP</th>\n",
       "      <th>TI</th>\n",
       "      <th>PG</th>\n",
       "      <th>LID</th>\n",
       "      <th>AB</th>\n",
       "      <th>FAU</th>\n",
       "      <th>AU</th>\n",
       "      <th>AD</th>\n",
       "      <th>LA</th>\n",
       "      <th>PT</th>\n",
       "      <th>PL</th>\n",
       "      <th>TA</th>\n",
       "      <th>JT</th>\n",
       "      <th>JID</th>\n",
       "      <th>SB</th>\n",
       "      <th>MH</th>\n",
       "      <th>PMC</th>\n",
       "      <th>OTO</th>\n",
       "      <th>OT</th>\n",
       "      <th>EDAT</th>\n",
       "      <th>MHDA</th>\n",
       "      <th>CRDT</th>\n",
       "      <th>PHST</th>\n",
       "      <th>AID</th>\n",
       "      <th>PST</th>\n",
       "      <th>SO</th>\n",
       "    </tr>\n",
       "  </thead>\n",
       "  <tbody>\n",
       "    <tr>\n",
       "      <th>0</th>\n",
       "      <td>32333552</td>\n",
       "      <td>NLM</td>\n",
       "      <td>MEDLINE</td>\n",
       "      <td>20200812</td>\n",
       "      <td>20201218</td>\n",
       "      <td>1877-718X (Electronic) 1877-7171 (Linking)</td>\n",
       "      <td>10</td>\n",
       "      <td>3</td>\n",
       "      <td>2020</td>\n",
       "      <td>Recommendations for Deep Brain Stimulation Dev...</td>\n",
       "      <td>903-910</td>\n",
       "      <td>10.3233/JPD-202072 [doi]</td>\n",
       "      <td>Most medical centers are postponing elective p...</td>\n",
       "      <td>[Miocinovic, Svjetlana, Ostrem, Jill L, Okun, ...</td>\n",
       "      <td>[Miocinovic S, Ostrem JL, Okun MS, Bullinger K...</td>\n",
       "      <td>[Department of Neurology, Emory University, At...</td>\n",
       "      <td>[eng]</td>\n",
       "      <td>[Journal Article, Review]</td>\n",
       "      <td>Netherlands</td>\n",
       "      <td>J Parkinsons Dis</td>\n",
       "      <td>Journal of Parkinson's disease</td>\n",
       "      <td>101567362</td>\n",
       "      <td>IM</td>\n",
       "      <td>[*Betacoronavirus, COVID-19, Coronavirus Infec...</td>\n",
       "      <td>PMC7458514</td>\n",
       "      <td>[NOTNLM]</td>\n",
       "      <td>[*COVID-19, *DBS withdrawal, *battery depletio...</td>\n",
       "      <td>2020/04/26 06:00</td>\n",
       "      <td>2020/08/13 06:00</td>\n",
       "      <td>[2020/04/26 06:00]</td>\n",
       "      <td>[2020/04/26 06:00 [pubmed], 2020/08/13 06:00 [...</td>\n",
       "      <td>[JPD202072 [pii], 10.3233/JPD-202072 [doi]]</td>\n",
       "      <td>ppublish</td>\n",
       "      <td>J Parkinsons Dis. 2020;10(3):903-910. doi: 10....</td>\n",
       "    </tr>\n",
       "  </tbody>\n",
       "</table>\n",
       "</div>"
      ],
      "text/plain": [
       "       PMID  OWN     STAT      DCOM        LR  \\\n",
       "0  32333552  NLM  MEDLINE  20200812  20201218   \n",
       "\n",
       "                                           IS  VI IP    DP  \\\n",
       "0  1877-718X (Electronic) 1877-7171 (Linking)  10  3  2020   \n",
       "\n",
       "                                                  TI       PG  \\\n",
       "0  Recommendations for Deep Brain Stimulation Dev...  903-910   \n",
       "\n",
       "                        LID  \\\n",
       "0  10.3233/JPD-202072 [doi]   \n",
       "\n",
       "                                                  AB  \\\n",
       "0  Most medical centers are postponing elective p...   \n",
       "\n",
       "                                                 FAU  \\\n",
       "0  [Miocinovic, Svjetlana, Ostrem, Jill L, Okun, ...   \n",
       "\n",
       "                                                  AU  \\\n",
       "0  [Miocinovic S, Ostrem JL, Okun MS, Bullinger K...   \n",
       "\n",
       "                                                  AD     LA  \\\n",
       "0  [Department of Neurology, Emory University, At...  [eng]   \n",
       "\n",
       "                          PT           PL                TA  \\\n",
       "0  [Journal Article, Review]  Netherlands  J Parkinsons Dis   \n",
       "\n",
       "                               JT        JID  SB  \\\n",
       "0  Journal of Parkinson's disease  101567362  IM   \n",
       "\n",
       "                                                  MH         PMC       OTO  \\\n",
       "0  [*Betacoronavirus, COVID-19, Coronavirus Infec...  PMC7458514  [NOTNLM]   \n",
       "\n",
       "                                                  OT              EDAT  \\\n",
       "0  [*COVID-19, *DBS withdrawal, *battery depletio...  2020/04/26 06:00   \n",
       "\n",
       "               MHDA                CRDT  \\\n",
       "0  2020/08/13 06:00  [2020/04/26 06:00]   \n",
       "\n",
       "                                                PHST  \\\n",
       "0  [2020/04/26 06:00 [pubmed], 2020/08/13 06:00 [...   \n",
       "\n",
       "                                           AID       PST  \\\n",
       "0  [JPD202072 [pii], 10.3233/JPD-202072 [doi]]  ppublish   \n",
       "\n",
       "                                                  SO  \n",
       "0  J Parkinsons Dis. 2020;10(3):903-910. doi: 10....  "
      ]
     },
     "execution_count": 71,
     "metadata": {},
     "output_type": "execute_result"
    }
   ],
   "source": [
    "publication_data"
   ]
  },
  {
   "cell_type": "code",
   "execution_count": 72,
   "metadata": {},
   "outputs": [],
   "source": [
    "pd.set_option('display.max_columns', None)"
   ]
  },
  {
   "cell_type": "code",
   "execution_count": 73,
   "metadata": {},
   "outputs": [
    {
     "data": {
      "text/plain": [
       "'Miocinovic Svjetlana'"
      ]
     },
     "execution_count": 73,
     "metadata": {},
     "output_type": "execute_result"
    }
   ],
   "source": [
    "publication_data['FAU'][0][0].replace(',','')"
   ]
  },
  {
   "cell_type": "code",
   "execution_count": null,
   "metadata": {},
   "outputs": [],
   "source": []
  },
  {
   "cell_type": "code",
   "execution_count": 50,
   "metadata": {},
   "outputs": [],
   "source": [
    "handle = Entrez.esearch(db=\"pubmed\", term='Miocinovic Svjetlana[Author]',retmax=5)\n",
    "record = Entrez.read(handle)"
   ]
  },
  {
   "cell_type": "code",
   "execution_count": 51,
   "metadata": {},
   "outputs": [
    {
     "data": {
      "text/plain": [
       "{'Count': '47', 'RetMax': '5', 'RetStart': '0', 'IdList': ['33361608', '33140081', '33118132', '32379319', '32333552'], 'TranslationSet': [{'From': 'Miocinovic Svjetlana[Author]', 'To': 'Miocinovic, Svjetlana[Full Author Name]'}], 'TranslationStack': [{'Term': 'Miocinovic, Svjetlana[Full Author Name]', 'Field': 'Full Author Name', 'Count': '47', 'Explode': 'N'}, 'GROUP'], 'QueryTranslation': 'Miocinovic, Svjetlana[Full Author Name]'}"
      ]
     },
     "execution_count": 51,
     "metadata": {},
     "output_type": "execute_result"
    }
   ],
   "source": [
    "record"
   ]
  },
  {
   "cell_type": "code",
   "execution_count": 27,
   "metadata": {},
   "outputs": [
    {
     "name": "stdout",
     "output_type": "stream",
     "text": [
      "LOCUS       AY851612                 892 bp    DNA     linear   PLN 10-APR-2007\n"
     ]
    }
   ],
   "source": [
    "\n",
    "Entrez.email = \"Your.Name.Here@example.org\"\n",
    "handle = Entrez.efetch(db=\"nucleotide\", id=\"AY851612\", rettype=\"gb\", retmode=\"text\")\n",
    "print(handle.readline().strip())"
   ]
  },
  {
   "cell_type": "code",
   "execution_count": null,
   "metadata": {},
   "outputs": [],
   "source": []
  },
  {
   "cell_type": "code",
   "execution_count": 76,
   "metadata": {},
   "outputs": [],
   "source": [
    "l=dict(records)"
   ]
  },
  {
   "cell_type": "code",
   "execution_count": 1,
   "metadata": {},
   "outputs": [
    {
     "ename": "NameError",
     "evalue": "name 'l' is not defined",
     "output_type": "error",
     "traceback": [
      "\u001b[1;31m---------------------------------------------------------------------------\u001b[0m",
      "\u001b[1;31mNameError\u001b[0m                                 Traceback (most recent call last)",
      "\u001b[1;32m<ipython-input-1-cde25b5e10ad>\u001b[0m in \u001b[0;36m<module>\u001b[1;34m\u001b[0m\n\u001b[1;32m----> 1\u001b[1;33m \u001b[0ml\u001b[0m\u001b[1;33m\u001b[0m\u001b[1;33m\u001b[0m\u001b[0m\n\u001b[0m",
      "\u001b[1;31mNameError\u001b[0m: name 'l' is not defined"
     ]
    }
   ],
   "source": [
    "l"
   ]
  },
  {
   "cell_type": "code",
   "execution_count": 1,
   "metadata": {},
   "outputs": [],
   "source": [
    "from Bio import Entrez\n",
    "from Bio import Medline\n",
    "import pandas as pd\n",
    "Entrez.email = 'rathodhruv007@gmail.com'\n",
    "h = Entrez.efetch(db=\"pubmed\", id=32333552, rettype=\"medline\", retmode=\"text\")\n",
    "records = Medline.parse(h)\n",
    "publication_data = pd.DataFrame(list(records))"
   ]
  },
  {
   "cell_type": "code",
   "execution_count": 26,
   "metadata": {},
   "outputs": [],
   "source": [
    "publication_data.to_json(\"trial.json\")"
   ]
  },
  {
   "cell_type": "code",
   "execution_count": 27,
   "metadata": {},
   "outputs": [],
   "source": [
    "with open(\"trial.json\") as json_file:\n",
    "    data = json.load(json_file)"
   ]
  },
  {
   "cell_type": "code",
   "execution_count": 34,
   "metadata": {},
   "outputs": [],
   "source": [
    "new=[]\n",
    "for i in data['FAU']['0']:\n",
    "    i=i.replace(',','')\n",
    "    new.append(i)\n",
    "    "
   ]
  },
  {
   "cell_type": "code",
   "execution_count": 35,
   "metadata": {},
   "outputs": [
    {
     "data": {
      "text/plain": [
       "['Miocinovic Svjetlana',\n",
       " 'Ostrem Jill L',\n",
       " 'Okun Michael S',\n",
       " 'Bullinger Katie L',\n",
       " 'Riva-Posse Patricio',\n",
       " 'Gross Robert E',\n",
       " 'Buetefisch Cathrin M']"
      ]
     },
     "execution_count": 35,
     "metadata": {},
     "output_type": "execute_result"
    }
   ],
   "source": [
    "new"
   ]
  },
  {
   "cell_type": "code",
   "execution_count": null,
   "metadata": {},
   "outputs": [],
   "source": []
  },
  {
   "cell_type": "code",
   "execution_count": 4,
   "metadata": {},
   "outputs": [],
   "source": [
    "path=r'C:\\Users\\ratho\\.project\\group5\\data\\Svjetlana Miocinovic\\15129161.json'"
   ]
  },
  {
   "cell_type": "code",
   "execution_count": 6,
   "metadata": {},
   "outputs": [],
   "source": [
    "import json\n",
    "with open(path) as json_file:\n",
    "    data = json.load(json_file)"
   ]
  },
  {
   "cell_type": "code",
   "execution_count": 20,
   "metadata": {},
   "outputs": [
    {
     "data": {
      "text/plain": [
       "[{'name': 'Grill WM', 'authtype': 'Author', 'clusterid': ''},\n",
       " {'name': 'Snyder AN', 'authtype': 'Author', 'clusterid': ''},\n",
       " {'name': 'Miocinovic S', 'authtype': 'Author', 'clusterid': ''}]"
      ]
     },
     "execution_count": 20,
     "metadata": {},
     "output_type": "execute_result"
    }
   ],
   "source": [
    "data['result']['15129161']['authors']"
   ]
  },
  {
   "cell_type": "code",
   "execution_count": null,
   "metadata": {},
   "outputs": [],
   "source": []
  }
 ],
 "metadata": {
  "kernelspec": {
   "display_name": "Python 3",
   "language": "python",
   "name": "python3"
  },
  "language_info": {
   "codemirror_mode": {
    "name": "ipython",
    "version": 3
   },
   "file_extension": ".py",
   "mimetype": "text/x-python",
   "name": "python",
   "nbconvert_exporter": "python",
   "pygments_lexer": "ipython3",
   "version": "3.7.6"
  }
 },
 "nbformat": 4,
 "nbformat_minor": 4
}
